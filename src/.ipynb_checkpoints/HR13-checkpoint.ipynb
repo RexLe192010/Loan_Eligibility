{
 "cells": [
  {
   "cell_type": "code",
   "execution_count": 2,
   "id": "f2462529",
   "metadata": {},
   "outputs": [],
   "source": [
    "import pandas as pd"
   ]
  },
  {
   "cell_type": "code",
   "execution_count": 44,
   "id": "4ccc649e",
   "metadata": {
    "scrolled": true
   },
   "outputs": [
    {
     "name": "stderr",
     "output_type": "stream",
     "text": [
      "C:\\Users\\Matthew\\AppData\\Local\\Temp\\ipykernel_5004\\225936340.py:2: DtypeWarning: Columns (22,23,24,26,27,28,29,30,31,32,33,38,43,44,46,77,78,79,80) have mixed types. Specify dtype option on import or set low_memory=False.\n",
      "  file = pd.read_csv('~../../rice2324/personal/hackrice13/hr13_dataset1.csv', nrows=1e6)\n"
     ]
    },
    {
     "name": "stdout",
     "output_type": "stream",
     "text": [
      "(1000000, 99)\n",
      "derived_dwelling_category        0\n",
      "derived_ethnicity                0\n",
      "applicant_race_1                 6\n",
      "applicant_sex                    0\n",
      "loan_type                        0\n",
      "loan_purpose                     0\n",
      "loan_amount                      0\n",
      "interest_rate                35303\n",
      "loan_term                     1372\n",
      "property_value               24387\n",
      "occupancy_type                   0\n",
      "applicant_age                    0\n",
      "denial_reason_1                  0\n",
      "income                        8770\n",
      "dtype: int64\n",
      "(100000, 14)\n"
     ]
    }
   ],
   "source": [
    "pd.set_option('display.max_columns', None)\n",
    "file = pd.read_csv('~../../rice2324/personal/hackrice13/hr13_dataset1.csv', nrows=1e6)\n",
    "print(file.shape)\n",
    "file = file[['derived_dwelling_category',\n",
    "                'derived_ethnicity', 'applicant_race_1',\n",
    "                'applicant_sex', 'loan_type', 'loan_purpose', 'loan_amount',\n",
    "                'interest_rate', 'loan_term', 'property_value',\n",
    "                'occupancy_type', 'applicant_age',  'denial_reason_1','income']]\n",
    "file = file.sample(frac=0.1)\n",
    "print(file.isnull().sum(axis=0))\n",
    "print(file.shape)"
   ]
  },
  {
   "cell_type": "code",
   "execution_count": 4,
   "id": "abc16969",
   "metadata": {
    "scrolled": true
   },
   "outputs": [
    {
     "name": "stdout",
     "output_type": "stream",
     "text": [
      "      total_loan_costs             derived_dwelling_category  \\\n",
      "0              7436.14  Single Family (1-4 Units):Site-Built   \n",
      "1             16155.19  Single Family (1-4 Units):Site-Built   \n",
      "3             22789.69  Single Family (1-4 Units):Site-Built   \n",
      "6              5541.36  Single Family (1-4 Units):Site-Built   \n",
      "7              6712.94  Single Family (1-4 Units):Site-Built   \n",
      "...                ...                                   ...   \n",
      "87074          9508.43  Single Family (1-4 Units):Site-Built   \n",
      "87075           985.41  Single Family (1-4 Units):Site-Built   \n",
      "87076          9978.38  Single Family (1-4 Units):Site-Built   \n",
      "87077          9819.92  Single Family (1-4 Units):Site-Built   \n",
      "87078          9904.92  Single Family (1-4 Units):Site-Built   \n",
      "\n",
      "             derived_ethnicity  applicant_race_1  applicant_sex  loan_type  \\\n",
      "0       Not Hispanic or Latino               2.0              1          1   \n",
      "1       Not Hispanic or Latino               3.0              1          2   \n",
      "3      Ethnicity Not Available               6.0              3          2   \n",
      "6      Ethnicity Not Available               6.0              2          1   \n",
      "7       Not Hispanic or Latino               5.0              1          1   \n",
      "...                        ...               ...            ...        ...   \n",
      "87074       Hispanic or Latino               5.0              1          2   \n",
      "87075  Ethnicity Not Available               6.0              1          1   \n",
      "87076   Not Hispanic or Latino               3.0              1          1   \n",
      "87077   Not Hispanic or Latino               5.0              2          1   \n",
      "87078   Not Hispanic or Latino               5.0              2          1   \n",
      "\n",
      "       loan_purpose  loan_amount interest_rate total_loan_costs loan_term  \\\n",
      "0                 1       215000           6.5          7436.14       360   \n",
      "1                 1       445000          6.75         16155.19       360   \n",
      "3                 1       425000         7.125         22789.69       360   \n",
      "6                 1        85000         6.375          5541.36       360   \n",
      "7                 1       455000         7.375          6712.94       360   \n",
      "...             ...          ...           ...              ...       ...   \n",
      "87074             1       285000         3.375          9508.43     360.0   \n",
      "87075             1       185000          5.49           985.41     360.0   \n",
      "87076            32       235000          3.25          9978.38     360.0   \n",
      "87077             1       285000          2.99          9819.92     360.0   \n",
      "87078             1       435000         3.625          9904.92     360.0   \n",
      "\n",
      "      property_value  occupancy_type applicant_age  income  denial_reason_1  \n",
      "0           225000.0               1         25-34    59.0               10  \n",
      "1           475000.0               1         45-54   202.0               10  \n",
      "3           455000.0               1         45-54   150.0               10  \n",
      "6           115000.0               1           >74    68.0               10  \n",
      "7           515000.0               1         45-54   133.0               10  \n",
      "...              ...             ...           ...     ...              ...  \n",
      "87074       325000.0               1         25-34    66.0               10  \n",
      "87075       185000.0               1         25-34    51.0               10  \n",
      "87076       335000.0               1         45-54    99.0               10  \n",
      "87077       295000.0               1         25-34    92.0               10  \n",
      "87078       545000.0               1         55-64   103.0               10  \n",
      "\n",
      "[22959 rows x 16 columns]\n"
     ]
    }
   ],
   "source": [
    "print(file)"
   ]
  },
  {
   "cell_type": "code",
   "execution_count": 5,
   "id": "af596745",
   "metadata": {},
   "outputs": [],
   "source": [
    "#file.to_csv(r'C:\\rice2324\\personal\\hackrice13\\Loan_Eligibility\\dataset\\clean_1e5.csv')"
   ]
  },
  {
   "cell_type": "code",
   "execution_count": null,
   "id": "192e9250",
   "metadata": {},
   "outputs": [],
   "source": []
  },
  {
   "cell_type": "code",
   "execution_count": null,
   "id": "74847450",
   "metadata": {},
   "outputs": [],
   "source": []
  }
 ],
 "metadata": {
  "kernelspec": {
   "display_name": "Python 3 (ipykernel)",
   "language": "python",
   "name": "python3"
  },
  "language_info": {
   "codemirror_mode": {
    "name": "ipython",
    "version": 3
   },
   "file_extension": ".py",
   "mimetype": "text/x-python",
   "name": "python",
   "nbconvert_exporter": "python",
   "pygments_lexer": "ipython3",
   "version": "3.11.4"
  }
 },
 "nbformat": 4,
 "nbformat_minor": 5
}
